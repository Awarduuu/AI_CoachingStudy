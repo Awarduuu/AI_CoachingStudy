{
 "cells": [
  {
   "cell_type": "code",
   "execution_count": 1,
   "id": "ce84f032",
   "metadata": {},
   "outputs": [],
   "source": [
    "class SoccerPlayer(object) : # class명은 CamelCase형식으로 짓는다(띄어쓰기 부분에 대문자)\n",
    "    def __init__(self, name, position, back_number) : # Attribute 추가는 __init__, self와 함께!\n",
    "        # __init__은 객체 초기화 예약 함수\n",
    "        # __(언더바 두개)는 특수한 예약 함수, 변수, 함수명 변경(맨글링)으로 사용\n",
    "        # self는 생성된 instance\n",
    "        self.name = name\n",
    "        self.position = position\n",
    "        self.back_number = back_number\n",
    "\n",
    "    def change_back_number(self, new_number) :\n",
    "        print(\"선수의 등번호를 변경합니다 : From %d to %d\" % (self.back_number, new_number))\n",
    "        self.back_number = new_number \n",
    "\n",
    "    def __str__(self) -> str:\n",
    "        return \"Hello, My name is %s. I play in %s in center\" % (self.name, self.position)"
   ]
  },
  {
   "cell_type": "code",
   "execution_count": 2,
   "id": "9097cbc7",
   "metadata": {},
   "outputs": [],
   "source": [
    "# 객체 생성\n",
    "# 객체명 - son\n",
    "# 클래스명 - SoccerPlayer\n",
    "# () 안 - __init__ 함수 interface, 초기값\n",
    "son = SoccerPlayer(\"son\", \"LW\", 7)\n",
    "kane = SoccerPlayer(\"kane\", \"ST\", 10)"
   ]
  },
  {
   "cell_type": "code",
   "execution_count": 4,
   "id": "2bd1e1e3",
   "metadata": {},
   "outputs": [
    {
     "name": "stdout",
     "output_type": "stream",
     "text": [
      "son\n",
      "LW\n",
      "7\n"
     ]
    }
   ],
   "source": [
    "print(son.name)\n",
    "print(son.position)\n",
    "print(son.back_number)"
   ]
  },
  {
   "cell_type": "code",
   "execution_count": 7,
   "id": "38564d41",
   "metadata": {},
   "outputs": [
    {
     "name": "stdout",
     "output_type": "stream",
     "text": [
      "Hello, My name is son. I play in LW in center\n"
     ]
    }
   ],
   "source": [
    "# 객체를 print하면 __str__(self)가 실행된다\n",
    "print(son)"
   ]
  },
  {
   "cell_type": "code",
   "execution_count": 9,
   "id": "1fe938ad",
   "metadata": {},
   "outputs": [
    {
     "name": "stdout",
     "output_type": "stream",
     "text": [
      "선수의 등번호를 변경합니다 : From 20 to 20\n",
      "20\n"
     ]
    }
   ],
   "source": [
    "# change_back_number 함수 실행\n",
    "kane.change_back_number(20)\n",
    "\n",
    "# 등번호 변경 확인\n",
    "print(kane.back_number)"
   ]
  },
  {
   "cell_type": "code",
   "execution_count": null,
   "id": "09d6d257",
   "metadata": {},
   "outputs": [],
   "source": []
  }
 ],
 "metadata": {
  "kernelspec": {
   "display_name": "Python 3 (ipykernel)",
   "language": "python",
   "name": "python3"
  },
  "language_info": {
   "codemirror_mode": {
    "name": "ipython",
    "version": 3
   },
   "file_extension": ".py",
   "mimetype": "text/x-python",
   "name": "python",
   "nbconvert_exporter": "python",
   "pygments_lexer": "ipython3",
   "version": "3.9.7"
  }
 },
 "nbformat": 4,
 "nbformat_minor": 5
}
