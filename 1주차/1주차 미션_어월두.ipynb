{
 "cells": [
  {
   "cell_type": "code",
   "execution_count": 1,
   "id": "0176ae49",
   "metadata": {},
   "outputs": [
    {
     "name": "stdout",
     "output_type": "stream",
     "text": [
      "[1, 5, 7, 15, 29]\n"
     ]
    }
   ],
   "source": [
    "# 1번\n",
    "# 주어진 리스트\n",
    "num_list = [1, 5, 7, 15, 16, 22, 28, 29]\n",
    "\n",
    "def get_odd_num(num_list):\n",
    "    num_odd_list = []\n",
    "    for i in num_list :\n",
    "        if i % 2 == 1 :\n",
    "            num_odd_list.append(i)\n",
    "    return num_odd_list\n",
    "\n",
    "print(get_odd_num(num_list))"
   ]
  },
  {
   "cell_type": "code",
   "execution_count": 15,
   "id": "1dd13b76",
   "metadata": {},
   "outputs": [
    {
     "name": "stdout",
     "output_type": "stream",
     "text": [
      "Where there is a will there is a way\n"
     ]
    }
   ],
   "source": [
    "# 2번\n",
    "\n",
    "sentence = \"way a is there will a is there Where\"\n",
    "\n",
    "def reverse_sentence(sentence):\n",
    "    text = sentence.split(\" \")\n",
    "    inv_text = []\n",
    "    for i in range(len(text)-1,-1,-1):\n",
    "        inv_text.append(text[i])\n",
    "    inv_sen = \" \".join(inv_text)\n",
    "    return inv_sen\n",
    "    \n",
    "print(reverse_sentence(sentence))"
   ]
  },
  {
   "cell_type": "code",
   "execution_count": 29,
   "id": "72451e37",
   "metadata": {},
   "outputs": [
    {
     "name": "stdout",
     "output_type": "stream",
     "text": [
      "1 번, 평균 : 100.0\n",
      "2 번, 평균 : 92.5\n",
      "3 번, 평균 : 57.5\n",
      "4 번, 평균 : 77.5\n",
      "5 번, 평균 : 70.0\n"
     ]
    }
   ],
   "source": [
    "# 3번\n",
    "\n",
    "score = [(100, 100), (95, 90), (55, 60), (75,80), (70,70)]\n",
    "\n",
    "def get_avg(score):\n",
    "    avg = []\n",
    "    for i in score : \n",
    "        avg.append((i[0]+i[1])/2)\n",
    "    \n",
    "    for j in range(0,len(avg)) :\n",
    "        print(\"{0} 번, 평균 : {1}\".format(j+1, avg[j]))\n",
    "\n",
    "get_avg(score)"
   ]
  },
  {
   "cell_type": "code",
   "execution_count": 46,
   "id": "1ec675cd",
   "metadata": {},
   "outputs": [
    {
     "name": "stdout",
     "output_type": "stream",
     "text": [
      "{'감': 35, '귤': 25, '배': 30, '사과': 35, '포도': 10}\n"
     ]
    }
   ],
   "source": [
    "# 4번\n",
    "\n",
    "dict_first = {'사과' : 30, '배' : 15, '감' : 10, '포도' : 10}\n",
    "dict_second = {'사과' : 5, '감' : 25, '배' : 15, '귤' : 25}\n",
    "\n",
    "def merge_dict(dict_first, dict_second):\n",
    "    dict_fin = {}\n",
    "    dict_fin_sorted = {}\n",
    "    for i in dict_first :\n",
    "        if i in dict_second :\n",
    "            dict_fin[i] = dict_first[i] + dict_second[i]\n",
    "        else :\n",
    "            dict_fin[i] = dict_first[i]\n",
    "    for j in dict_second :\n",
    "        if j in dict_fin :\n",
    "            pass\n",
    "        else :\n",
    "            dict_fin[j] = dict_second[j]\n",
    "    sorted_dict = sorted(dict_fin.items())\n",
    "    \n",
    "    for k, v in sorted_dict :\n",
    "        dict_fin_sorted[k] = v\n",
    "    return print(dict_fin_sorted)\n",
    "    \n",
    "merge_dict(dict_first, dict_second)"
   ]
  },
  {
   "cell_type": "code",
   "execution_count": null,
   "id": "db28c89b",
   "metadata": {},
   "outputs": [],
   "source": [
    "# 5번\n",
    "\n",
    "inputs = \"cat32dog16cow5\"\n",
    "\n"
   ]
  }
 ],
 "metadata": {
  "kernelspec": {
   "display_name": "Python 3 (ipykernel)",
   "language": "python",
   "name": "python3"
  },
  "language_info": {
   "codemirror_mode": {
    "name": "ipython",
    "version": 3
   },
   "file_extension": ".py",
   "mimetype": "text/x-python",
   "name": "python",
   "nbconvert_exporter": "python",
   "pygments_lexer": "ipython3",
   "version": "3.9.7"
  }
 },
 "nbformat": 4,
 "nbformat_minor": 5
}
