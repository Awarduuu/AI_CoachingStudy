{
 "cells": [
  {
   "cell_type": "code",
   "execution_count": 2,
   "id": "18194b4f",
   "metadata": {},
   "outputs": [],
   "source": [
    "cities = ['서울', '부산', '인천', '대구', '대전', '광주', '울산', '수원']"
   ]
  },
  {
   "cell_type": "code",
   "execution_count": 3,
   "id": "e5120052",
   "metadata": {},
   "outputs": [
    {
     "data": {
      "text/plain": [
       "True"
      ]
     },
     "execution_count": 3,
     "metadata": {},
     "output_type": "execute_result"
    }
   ],
   "source": [
    "\"서울\" in cities"
   ]
  },
  {
   "cell_type": "code",
   "execution_count": 5,
   "id": "c0bf95dc",
   "metadata": {},
   "outputs": [],
   "source": [
    "# 리스트 추가\n",
    "cities.extend(['순천','여수'])"
   ]
  },
  {
   "cell_type": "code",
   "execution_count": 6,
   "id": "cd270f84",
   "metadata": {},
   "outputs": [
    {
     "data": {
      "text/plain": [
       "['서울', '부산', '인천', '대구', '대전', '광주', '울산', '수원', '순천', '여수']"
      ]
     },
     "execution_count": 6,
     "metadata": {},
     "output_type": "execute_result"
    }
   ],
   "source": [
    "cities"
   ]
  },
  {
   "cell_type": "code",
   "execution_count": 8,
   "id": "44dcf27b",
   "metadata": {},
   "outputs": [],
   "source": [
    "# 리스트 삭제\n",
    "del cities[0]\n",
    "# cities.remove(\"서울\")"
   ]
  },
  {
   "cell_type": "code",
   "execution_count": 9,
   "id": "bad85e59",
   "metadata": {},
   "outputs": [
    {
     "data": {
      "text/plain": [
       "[5, 4, 3, 2, 1]"
      ]
     },
     "execution_count": 9,
     "metadata": {},
     "output_type": "execute_result"
    }
   ],
   "source": [
    "a = [5,4,3,2,1]\n",
    "b = [1,2,3,4,5]\n",
    "b=a\n",
    "b\n",
    "# b와 a가 가리키는 리스트 주소값이 동일"
   ]
  },
  {
   "cell_type": "code",
   "execution_count": 10,
   "id": "34826d41",
   "metadata": {},
   "outputs": [],
   "source": [
    "a.sort()"
   ]
  },
  {
   "cell_type": "code",
   "execution_count": 11,
   "id": "8a2c1d94",
   "metadata": {},
   "outputs": [
    {
     "data": {
      "text/plain": [
       "[1, 2, 3, 4, 5]"
      ]
     },
     "execution_count": 11,
     "metadata": {},
     "output_type": "execute_result"
    }
   ],
   "source": [
    "b\n",
    "# a를 sort해도 주소값이 동일하기 때문에 b 출력값 역시 sort된 값"
   ]
  },
  {
   "cell_type": "code",
   "execution_count": 12,
   "id": "5d0c5425",
   "metadata": {},
   "outputs": [
    {
     "name": "stdout",
     "output_type": "stream",
     "text": [
      "1 2 3\n"
     ]
    }
   ],
   "source": [
    "# 패킹과 언패킹\n",
    "\n",
    "# 1,2,3을 변수 t에 패킹\n",
    "t=[1,2,3]\n",
    "\n",
    "# a=1, b=2, c=3으로 언패킹\n",
    "\n",
    "a,b,c = t\n",
    "\n",
    "print(a,b,c)"
   ]
  },
  {
   "cell_type": "code",
   "execution_count": 13,
   "id": "ad5b4ca2",
   "metadata": {},
   "outputs": [
    {
     "name": "stdout",
     "output_type": "stream",
     "text": [
      "1 2\n",
      "1 2\n"
     ]
    }
   ],
   "source": [
    "# old school formatting\n",
    "\n",
    "\n",
    "#1\n",
    "print('%d %d' % (1,2))\n",
    "\n",
    "#2\n",
    "print('{} {}'.format(1,2))"
   ]
  },
  {
   "cell_type": "code",
   "execution_count": 14,
   "id": "98420006",
   "metadata": {},
   "outputs": [
    {
     "name": "stdout",
     "output_type": "stream",
     "text": [
      "I eat 3 apples.\n",
      "I eat five apples.\n"
     ]
    }
   ],
   "source": [
    "print(\"I eat %d apples.\" % 3)\n",
    "print(\"I eat %s apples.\" % \"five\")"
   ]
  },
  {
   "cell_type": "code",
   "execution_count": 16,
   "id": "b47bc510",
   "metadata": {},
   "outputs": [
    {
     "name": "stdout",
     "output_type": "stream",
     "text": [
      "I'm 36 years old\n",
      "My name is Sungchul Choi and 36 years old\n"
     ]
    }
   ],
   "source": [
    "# str.format() 함수\n",
    "\n",
    "age = 36; name=\"Sungchul Choi\"\n",
    "\n",
    "print(\"I'm {0} years old\".format(age))\n",
    "print(\"My name is {0} and {1} years old\".format(name, age))"
   ]
  },
  {
   "cell_type": "code",
   "execution_count": 27,
   "id": "c86bec81",
   "metadata": {},
   "outputs": [
    {
     "name": "stdout",
     "output_type": "stream",
     "text": [
      "Sungchul Choi       \n",
      "       Sungchul Choi\n",
      "Sungchul Choi*******\n",
      "*******Sungchul Choi\n",
      "***Sungchul Choi****\n",
      "3.15******\n"
     ]
    }
   ],
   "source": [
    "# f-string\n",
    "\n",
    "print(f'{name:20}')\n",
    "print(f'{name:>20}')\n",
    "print(f'{name:*<20}')\n",
    "print(f'{name:*>20}')\n",
    "print(f'{name:*^20}')\n",
    "\n",
    "number = 3.14523\n",
    "\n",
    "print(f'{number:*<10.2f}')"
   ]
  },
  {
   "cell_type": "code",
   "execution_count": 30,
   "id": "4ea3267b",
   "metadata": {},
   "outputs": [
    {
     "data": {
      "text/plain": [
       "float"
      ]
     },
     "execution_count": 30,
     "metadata": {},
     "output_type": "execute_result"
    }
   ],
   "source": [
    "a = 10\n",
    "a = float(a)\n",
    "type(a)"
   ]
  },
  {
   "cell_type": "code",
   "execution_count": 1,
   "id": "1242de21",
   "metadata": {},
   "outputs": [
    {
     "name": "stdout",
     "output_type": "stream",
     "text": [
      "True\n"
     ]
    }
   ],
   "source": [
    "# 한줄 if문\n",
    "\n",
    "value = 12\n",
    "\n",
    "is_even = True if value % 2 == 0 else False\n",
    "\n",
    "print(is_even)"
   ]
  },
  {
   "cell_type": "code",
   "execution_count": 2,
   "id": "edefc152",
   "metadata": {},
   "outputs": [
    {
     "data": {
      "text/plain": [
       "False"
      ]
     },
     "execution_count": 2,
     "metadata": {},
     "output_type": "execute_result"
    }
   ],
   "source": [
    "# all, any 연산자\n",
    "\n",
    "boolean_list = [True, False]\n",
    "\n",
    "all(boolean_list)"
   ]
  },
  {
   "cell_type": "code",
   "execution_count": 3,
   "id": "55e9f2af",
   "metadata": {},
   "outputs": [
    {
     "data": {
      "text/plain": [
       "True"
      ]
     },
     "execution_count": 3,
     "metadata": {},
     "output_type": "execute_result"
    }
   ],
   "source": [
    "any(boolean_list)"
   ]
  },
  {
   "cell_type": "code",
   "execution_count": 4,
   "id": "6033d6ed",
   "metadata": {},
   "outputs": [
    {
     "name": "stdout",
     "output_type": "stream",
     "text": [
      "1 : Hello\n",
      "2 : Hello\n",
      "3 : Hello\n",
      "4 : Hello\n",
      "5 : Hello\n"
     ]
    }
   ],
   "source": [
    "# 반복문\n",
    "\n",
    "# for loop\n",
    "\n",
    "for i in [1,2,3,4,5] :\n",
    "    print(f\"{i} : Hello\")"
   ]
  },
  {
   "cell_type": "code",
   "execution_count": 6,
   "id": "75578334",
   "metadata": {},
   "outputs": [
    {
     "name": "stdout",
     "output_type": "stream",
     "text": [
      "0 : Hello\n",
      "1 : Hello\n",
      "2 : Hello\n",
      "3 : Hello\n",
      "4 : Hello\n"
     ]
    }
   ],
   "source": [
    "# range\n",
    "\n",
    "# list(range(0,5)) = [0,1,2,3,4] 를 의미\n",
    "for i in range(0,5) :\n",
    "    print(f\"{i} : Hello\")"
   ]
  },
  {
   "cell_type": "code",
   "execution_count": 7,
   "id": "acf6bbe3",
   "metadata": {},
   "outputs": [
    {
     "name": "stdout",
     "output_type": "stream",
     "text": [
      "a\n",
      "b\n",
      "c\n",
      "d\n",
      "e\n",
      "f\n",
      "g\n"
     ]
    }
   ],
   "source": [
    "# for문 문자열\n",
    "\n",
    "for i in \"abcdefg\" :\n",
    "    print(i)"
   ]
  },
  {
   "cell_type": "code",
   "execution_count": 8,
   "id": "1a2a63e5",
   "metadata": {},
   "outputs": [
    {
     "name": "stdout",
     "output_type": "stream",
     "text": [
      "ab\n",
      "cd\n",
      "ef\n"
     ]
    }
   ],
   "source": [
    "for i in [\"ab\", \"cd\", \"ef\"] :\n",
    "    print(i)"
   ]
  },
  {
   "cell_type": "code",
   "execution_count": 9,
   "id": "82484dc3",
   "metadata": {},
   "outputs": [
    {
     "name": "stdout",
     "output_type": "stream",
     "text": [
      "1\n",
      "3\n",
      "5\n",
      "7\n",
      "9\n"
     ]
    }
   ],
   "source": [
    "# for문 간격 세기, 역순\n",
    "\n",
    "# 간격 세기\n",
    "\n",
    "for i in range(1,10,2):\n",
    "    print(i)"
   ]
  },
  {
   "cell_type": "code",
   "execution_count": 10,
   "id": "5cefb5b8",
   "metadata": {},
   "outputs": [
    {
     "name": "stdout",
     "output_type": "stream",
     "text": [
      "10\n",
      "9\n",
      "8\n",
      "7\n",
      "6\n",
      "5\n",
      "4\n",
      "3\n",
      "2\n"
     ]
    }
   ],
   "source": [
    "# 역순 세기\n",
    "\n",
    "for i in range(10,1,-1):\n",
    "    print(i)"
   ]
  },
  {
   "cell_type": "code",
   "execution_count": 11,
   "id": "aef3cd1f",
   "metadata": {},
   "outputs": [
    {
     "name": "stdout",
     "output_type": "stream",
     "text": [
      "1\n",
      "2\n",
      "3\n",
      "4\n",
      "5\n",
      "6\n",
      "7\n",
      "8\n",
      "9\n"
     ]
    }
   ],
   "source": [
    "# while문\n",
    "# 조건이 만족하는 동안 반복 명령문 실행\n",
    "\n",
    "# 먼저 i에 1 할당\n",
    "i = 1\n",
    "\n",
    "while i <10 :\n",
    "    print(i)\n",
    "    # i를 1씩 증가\n",
    "    i+=1"
   ]
  },
  {
   "cell_type": "code",
   "execution_count": 12,
   "id": "79aca82b",
   "metadata": {},
   "outputs": [
    {
     "name": "stdout",
     "output_type": "stream",
     "text": [
      "0\n",
      "1\n",
      "2\n",
      "3\n",
      "4\n",
      "EOP\n"
     ]
    }
   ],
   "source": [
    "# 반복의 제어 - break, continue\n",
    "\n",
    "# break\n",
    "\n",
    "for i in range(10) :\n",
    "    if i == 5 :\n",
    "        break\n",
    "    print(i)\n",
    "print(\"EOP\")\n"
   ]
  },
  {
   "cell_type": "code",
   "execution_count": 13,
   "id": "57f232a5",
   "metadata": {},
   "outputs": [
    {
     "name": "stdout",
     "output_type": "stream",
     "text": [
      "0\n",
      "1\n",
      "2\n",
      "3\n",
      "4\n",
      "6\n",
      "7\n",
      "8\n",
      "9\n",
      "EOP\n"
     ]
    }
   ],
   "source": [
    "# continue\n",
    "\n",
    "for i in range(10) :\n",
    "    if i == 5 :\n",
    "        continue\n",
    "    print(i)\n",
    "print(\"EOP\")"
   ]
  },
  {
   "cell_type": "code",
   "execution_count": 16,
   "id": "15b040c2",
   "metadata": {
    "scrolled": true
   },
   "outputs": [
    {
     "name": "stdout",
     "output_type": "stream",
     "text": [
      "Review #1  \n",
      "Review #2  I\n",
      "Review #1  I\n",
      "Review #2   I\n",
      "Review #1   I\n",
      "Review #2  l I\n",
      "Review #1  l I\n",
      "Review #2  ol I\n",
      "Review #1  ol I\n",
      "Review #2  vol I\n",
      "Review #1  vol I\n",
      "Review #2  evol I\n",
      "Review #1  evol I\n",
      "Review #2   evol I\n",
      "Review #1   evol I\n",
      "Review #2  y evol I\n",
      "Review #1  y evol I\n",
      "Review #2  oy evol I\n",
      "Review #1  oy evol I\n",
      "Review #2  uoy evol I\n"
     ]
    }
   ],
   "source": [
    "# loop review\n",
    "\n",
    "# for문\n",
    "\n",
    "sen = \"I love you\"\n",
    "rev_sen = \"\"\n",
    "\n",
    "for i in sen :\n",
    "    print(\"Review #1 \", rev_sen)\n",
    "    rev_sen = i + rev_sen\n",
    "    print(\"Review #2 \", rev_sen)"
   ]
  },
  {
   "cell_type": "code",
   "execution_count": 18,
   "id": "d7cdd329",
   "metadata": {},
   "outputs": [
    {
     "name": "stdout",
     "output_type": "stream",
     "text": [
      "십진수를 입력하시오 : 10\n",
      "decimal : 5\n",
      "remainder : 0\n",
      "decimal : 2\n",
      "remainder : 1\n",
      "decimal : 1\n",
      "remainder : 0\n",
      "decimal : 0\n",
      "remainder : 1\n",
      "1010\n"
     ]
    }
   ],
   "source": [
    "# while문\n",
    "\n",
    "decimal = int(input(\"십진수를 입력하시오 : \"))\n",
    "\n",
    "result = \"\"\n",
    "\n",
    "while decimal > 0 :\n",
    "    remainder = decimal % 2\n",
    "    decimal = decimal // 2\n",
    "    result = str(remainder) + result\n",
    "    print(f\"decimal : {decimal}\")\n",
    "    print(f\"remainder : {remainder}\")\n",
    "print(result)"
   ]
  },
  {
   "cell_type": "code",
   "execution_count": 1,
   "id": "f46e6e13",
   "metadata": {},
   "outputs": [
    {
     "name": "stdout",
     "output_type": "stream",
     "text": [
      "숫자를 입력하시오 : 48\n"
     ]
    }
   ],
   "source": [
    "# 예시\n",
    "\n",
    "ans = int(input(\"숫자를 입력하시오 : \"))"
   ]
  },
  {
   "cell_type": "code",
   "execution_count": 6,
   "id": "9a0668a4",
   "metadata": {},
   "outputs": [
    {
     "name": "stdout",
     "output_type": "stream",
     "text": [
      "숫자를 맞춰보세요(1 ~ 100) 50\n",
      "숫자가 너무 큽니다 40\n",
      "숫자가 너무 작습니다 30\n",
      "숫자가 너무 작습니다 48\n",
      "정답입니다. 입력한 숫자는 48 입니다.\n"
     ]
    }
   ],
   "source": [
    "num = int(input(\"숫자를 맞춰보세요(1 ~ 100) \"))\n",
    "\n",
    "while num != ans :\n",
    "    if num > ans :\n",
    "        num = int(input(\"숫자가 너무 큽니다 \"))\n",
    "    elif num < ans :\n",
    "        num = int(input(\"숫자가 너무 작습니다 \"))\n",
    "print(f\"정답입니다. 입력한 숫자는 {ans} 입니다.\")\n",
    "        "
   ]
  },
  {
   "cell_type": "code",
   "execution_count": 10,
   "id": "f053c271",
   "metadata": {},
   "outputs": [
    {
     "name": "stdout",
     "output_type": "stream",
     "text": [
      "0번째 학생의 평균은 : 47.0 입니다\n",
      "1번째 학생의 평균은 : 72.33333333333333 입니다\n",
      "2번째 학생의 평균은 : 51.0 입니다\n",
      "3번째 학생의 평균은 : 63.333333333333336 입니다\n",
      "4번째 학생의 평균은 : 90.0 입니다\n"
     ]
    }
   ],
   "source": [
    "# 이차원 리스트 처리 예시\n",
    "# 다시 풀어보기\n",
    "\n",
    "kor_score = [49, 79, 20, 100, 80]\n",
    "math_score = [43, 59, 85, 30, 90]\n",
    "eng_score = [49, 79, 48, 60, 100]\n",
    "midterm_score = [kor_score, math_score, eng_score]\n",
    "\n",
    "student_score = [0 ,0 ,0 , 0, 0]\n",
    "\n",
    "i = 0\n",
    "\n",
    "for subject_score in midterm_score :\n",
    "    for personal_score in subject_score :\n",
    "        student_score[i] += personal_score\n",
    "        i+=1\n",
    "    i = 0\n",
    "\n",
    "a, b, c, d, e = student_score\n",
    "\n",
    "i = 0\n",
    "\n",
    "avg_score = [a/3, b/3, c/3, d/3, e/3]\n",
    "\n",
    "for value in avg_score :\n",
    "    print(f\"{i}번째 학생의 평균은 : {value} 입니다\")\n",
    "    i+=1"
   ]
  },
  {
   "cell_type": "code",
   "execution_count": 1,
   "id": "0dff53bc",
   "metadata": {
    "scrolled": true
   },
   "outputs": [],
   "source": [
    "# int \n",
    "\n",
    "# 4바이트 할당 : -2^31 ~ 2^31-1\n",
    "\n",
    "# float\n",
    "\n",
    "# 8바이트 할당\n",
    "\n",
    "# string\n",
    "\n",
    "# string 1개당 1byte 할당\n",
    "# 2진수를 문자로 변환하는 표준규칙에 따라 string이 컴퓨터에 2진수형태로 변환"
   ]
  },
  {
   "cell_type": "code",
   "execution_count": 3,
   "id": "9ecad2d3",
   "metadata": {},
   "outputs": [
    {
     "name": "stdout",
     "output_type": "stream",
     "text": [
      "a e\n",
      "e\n"
     ]
    }
   ],
   "source": [
    "# indexing\n",
    "\n",
    "a = \"abcde\"\n",
    "\n",
    "print(a[0],a[4])\n",
    "\n",
    "print(a[-1])"
   ]
  },
  {
   "cell_type": "code",
   "execution_count": 5,
   "id": "8b6f1896",
   "metadata": {},
   "outputs": [
    {
     "name": "stdout",
     "output_type": "stream",
     "text": [
      "Artifi\n",
      "L\n",
      "Artificial Intelligence and Machile \n",
      "Atfca nelgneadMcieLann\n",
      "gninraeL elihcaM dna ecnegilletnI laicifitrA\n"
     ]
    }
   ],
   "source": [
    "# slicing\n",
    "\n",
    "text = \"Artificial Intelligence and Machile Learning\"\n",
    "\n",
    "print(text[0:6])\n",
    "\n",
    "print(text[-8])\n",
    "\n",
    "print(text[:-8])\n",
    "\n",
    "print(text[::2])\n",
    "\n",
    "print(text[::-1])"
   ]
  },
  {
   "cell_type": "code",
   "execution_count": 9,
   "id": "f41bb7d4",
   "metadata": {},
   "outputs": [
    {
     "data": {
      "text/plain": [
       "'TEAMLAB X UPSTAGE'"
      ]
     },
     "execution_count": 9,
     "metadata": {},
     "output_type": "execute_result"
    }
   ],
   "source": [
    "# string function\n",
    "\n",
    "title = \"TEAMLAB X Upstage\"\n",
    "\n",
    "title.upper()"
   ]
  },
  {
   "cell_type": "code",
   "execution_count": 10,
   "id": "079a96a8",
   "metadata": {},
   "outputs": [
    {
     "data": {
      "text/plain": [
       "'teamlab x upstage'"
      ]
     },
     "execution_count": 10,
     "metadata": {},
     "output_type": "execute_result"
    }
   ],
   "source": [
    "title.lower()"
   ]
  },
  {
   "cell_type": "code",
   "execution_count": 11,
   "id": "7e33961e",
   "metadata": {},
   "outputs": [
    {
     "data": {
      "text/plain": [
       "['TEAMLAB', 'X', 'Upstage']"
      ]
     },
     "execution_count": 11,
     "metadata": {},
     "output_type": "execute_result"
    }
   ],
   "source": [
    "title.split(\" \")"
   ]
  },
  {
   "cell_type": "code",
   "execution_count": 17,
   "id": "b2005974",
   "metadata": {},
   "outputs": [
    {
     "data": {
      "text/plain": [
       "True"
      ]
     },
     "execution_count": 17,
     "metadata": {},
     "output_type": "execute_result"
    }
   ],
   "source": [
    "\"12345\".isdigit()"
   ]
  },
  {
   "cell_type": "code",
   "execution_count": 13,
   "id": "dd343f30",
   "metadata": {},
   "outputs": [
    {
     "data": {
      "text/plain": [
       "True"
      ]
     },
     "execution_count": 13,
     "metadata": {},
     "output_type": "execute_result"
    }
   ],
   "source": [
    "title.startswith(\"T\")"
   ]
  },
  {
   "cell_type": "code",
   "execution_count": 14,
   "id": "c804a509",
   "metadata": {},
   "outputs": [
    {
     "data": {
      "text/plain": [
       "2"
      ]
     },
     "execution_count": 14,
     "metadata": {},
     "output_type": "execute_result"
    }
   ],
   "source": [
    "title.count(\"A\")"
   ]
  },
  {
   "cell_type": "code",
   "execution_count": 16,
   "id": "4626bcf9",
   "metadata": {},
   "outputs": [
    {
     "data": {
      "text/plain": [
       "0"
      ]
     },
     "execution_count": 16,
     "metadata": {},
     "output_type": "execute_result"
    }
   ],
   "source": [
    "title.upper().count(\"a\")"
   ]
  },
  {
   "cell_type": "code",
   "execution_count": 21,
   "id": "4b2c4e05",
   "metadata": {},
   "outputs": [
    {
     "name": "stdout",
     "output_type": "stream",
     "text": [
      "Happy New Year\n",
      "This is a class\n",
      "Happy New Year\n",
      "This is a class\n"
     ]
    }
   ],
   "source": [
    "# 여러 줄 쓰기\n",
    "\n",
    "# 1. \\n 사용\n",
    "\n",
    "b = \"Happy New Year\\nThis is a class\"\n",
    "\n",
    "print(b)\n",
    "\n",
    "# 2. \"\"\"\"\"\" 사용\n",
    "a = \"\"\"Happy New Year\n",
    "This is a class\"\"\"\n",
    "\n",
    "print(a)"
   ]
  },
  {
   "cell_type": "code",
   "execution_count": 22,
   "id": "c1357801",
   "metadata": {},
   "outputs": [],
   "source": [
    "# 함수 호출 방식 개요\n",
    "# 함수에서 parameter를 전달하는 방식\n",
    "\n",
    "# 1) 값에 의한 호출\n",
    "# 인자를 넘길때 값만 넘김\n",
    "\n",
    "# 2) 참조에 의한 호출\n",
    "# 인자를 넘길때 메모리 주소를 넘김\n",
    "\n",
    "# 중요\n",
    "# 3) 객체 참조에 의한 호출\n",
    "# 객체의 주소가 함수로 전달되는 방식\n",
    "\n"
   ]
  },
  {
   "cell_type": "code",
   "execution_count": 24,
   "id": "36d28f54",
   "metadata": {},
   "outputs": [
    {
     "name": "stdout",
     "output_type": "stream",
     "text": [
      "[2, 3]\n",
      "[0, 1]\n"
     ]
    }
   ],
   "source": [
    "def spam(eggs):\n",
    "    eggs.append(1) # 기존 객체의 주소값에 [1] 추가\n",
    "    eggs =[2,3] # 새로운 객체 생성 \n",
    "    print(eggs)\n",
    "\n",
    "ham = [0] # ham은 [0]의 주소값을 가리킨다\n",
    "spam(ham) \n",
    "\n",
    "print(ham)"
   ]
  },
  {
   "cell_type": "code",
   "execution_count": 34,
   "id": "6401e703",
   "metadata": {},
   "outputs": [],
   "source": [
    "# 예시 swap\n",
    "\n",
    "def swap_value(x,y) : \n",
    "    temp = x\n",
    "    x = y\n",
    "    y = temp\n",
    "    \n",
    "def swap_offset(offset_x, offset_y) :\n",
    "    temp = ex[offset_x]\n",
    "    ex[offset_x] = ex[offset_y]\n",
    "    ex[offset_y] = temp\n",
    "    \n",
    "def swap_reference (list_ex, offset_x, offset_y) :\n",
    "    temp_list = list_ex[:]\n",
    "    temp = list_ex[offset_x]\n",
    "    list_ex[offset_x] = list_ex[offset_y]\n",
    "    list_ex[offset_y] = temp"
   ]
  },
  {
   "cell_type": "code",
   "execution_count": 27,
   "id": "19b62e95",
   "metadata": {},
   "outputs": [
    {
     "data": {
      "text/plain": [
       "[1, 2, 3, 4, 5]"
      ]
     },
     "execution_count": 27,
     "metadata": {},
     "output_type": "execute_result"
    }
   ],
   "source": [
    "ex = [1,2,3,4,5]\n",
    "\n",
    "# 1\n",
    "swap_value(ex[0],ex[1])\n",
    "# 주소값만 바뀌게 된다\n",
    "\n",
    "ex\n",
    "# ex 자체에는 해당이 안되는 함수임"
   ]
  },
  {
   "cell_type": "code",
   "execution_count": 30,
   "id": "caa475fe",
   "metadata": {},
   "outputs": [
    {
     "data": {
      "text/plain": [
       "[2, 1, 3, 4, 5]"
      ]
     },
     "execution_count": 30,
     "metadata": {},
     "output_type": "execute_result"
    }
   ],
   "source": [
    "# 2\n",
    "swap_offset(0,1)\n",
    "\n",
    "ex\n",
    "# ex 자체에 해당이 되는 함수임"
   ]
  },
  {
   "cell_type": "code",
   "execution_count": 33,
   "id": "c907818c",
   "metadata": {},
   "outputs": [
    {
     "data": {
      "text/plain": [
       "[2, 1, 3, 5, 4]"
      ]
     },
     "execution_count": 33,
     "metadata": {},
     "output_type": "execute_result"
    }
   ],
   "source": [
    "# 3\n",
    "\n",
    "# list까지 넣어준 함수로서 어디에든 사용할 수 있는 완전체 함수\n",
    "swap_reference(ex,3,4)\n",
    "\n",
    "ex"
   ]
  },
  {
   "cell_type": "code",
   "execution_count": 36,
   "id": "31af727d",
   "metadata": {},
   "outputs": [
    {
     "name": "stdout",
     "output_type": "stream",
     "text": [
      "10\n",
      "In Function :  20\n"
     ]
    }
   ],
   "source": [
    "# 변수의 범위\n",
    "\n",
    "def test(t) : # t는 local variable (지역변수)\n",
    "    print(x)\n",
    "    t = 20 # t는 함수 내에서만 사용\n",
    "    print(\"In Function : \",t)\n",
    "\n",
    "x = 10 # x는 global variable (전역변수)\n",
    "# x는 프로그램 전체에서 사용\n",
    "\n",
    "test(x)\n",
    "\n",
    "# print(t)를 실행하면 t는 함수밖에 없는 변수이므로 오류 발생"
   ]
  },
  {
   "cell_type": "code",
   "execution_count": 37,
   "id": "e74f5901",
   "metadata": {},
   "outputs": [
    {
     "name": "stdout",
     "output_type": "stream",
     "text": [
      "I love London!\n",
      "I love Paris\n"
     ]
    }
   ],
   "source": [
    "# 함수 내에 전역 변수와 같은 이름의 변수를 선언하면 새로운 지역 변수가 생김\n",
    "\n",
    "def f():\n",
    "    s = \"I love London!\" # 이 s는 새로운 지역변수임\n",
    "    print(s)\n",
    "    \n",
    "s = \"I love Paris\"\n",
    "f()\n",
    "print(s)"
   ]
  },
  {
   "cell_type": "code",
   "execution_count": 39,
   "id": "0dd71794",
   "metadata": {},
   "outputs": [
    {
     "name": "stdout",
     "output_type": "stream",
     "text": [
      "I love London!\n",
      "I love London!\n"
     ]
    }
   ],
   "source": [
    "def f():\n",
    "    global s # 전역 변수를 함수 내 사용 시 선언해줘야한다.\n",
    "    s = \"I love London!\" # 이 s는 새로운 지역변수임\n",
    "    print(s)\n",
    "    \n",
    "f()\n",
    "print(s)"
   ]
  },
  {
   "cell_type": "code",
   "execution_count": 40,
   "id": "6bd1f9d3",
   "metadata": {},
   "outputs": [
    {
     "name": "stdout",
     "output_type": "stream",
     "text": [
      "Input Number for Factorial Calculation: 5\n",
      "120\n"
     ]
    }
   ],
   "source": [
    "# recursive Function\n",
    "\n",
    "# 자기자신을 호출하는 함수\n",
    "\n",
    "# ex\n",
    "\n",
    "def factorial(n):\n",
    "    if n == 1 :\n",
    "        return 1\n",
    "    else :\n",
    "        return n * factorial(n-1)\n",
    "    \n",
    "print(factorial(int(input(\"Input Number for Factorial Calculation: \" ))))"
   ]
  },
  {
   "cell_type": "code",
   "execution_count": 41,
   "id": "39d313ab",
   "metadata": {},
   "outputs": [],
   "source": [
    "# 함수 작성 가이드 라인\n",
    "\n",
    "# 함수는 가능하면 짧게 작성\n",
    "\n",
    "# 함수 이름에 역할, 의도를 명확히 들어낼 것\n",
    "\n",
    "# 하나의 함수에는 유사한 역할을 하는 코드만 포함\n",
    "\n",
    "# 인자로 받은 값 자체를 바꾸진 말 것 (임시 변수 선언을 하라!)\n",
    "\n",
    "# 함수를 사용할 때 doc string으로 함수에 대한 설명 적어놓는 습관 들여놓기\n",
    "\n",
    "\n",
    "\n",
    "# vscode에서 ctrl + shift + p -> doctstring 검색으로 작성"
   ]
  },
  {
   "cell_type": "code",
   "execution_count": null,
   "id": "6a083ce9",
   "metadata": {},
   "outputs": [],
   "source": []
  }
 ],
 "metadata": {
  "kernelspec": {
   "display_name": "Python 3 (ipykernel)",
   "language": "python",
   "name": "python3"
  },
  "language_info": {
   "codemirror_mode": {
    "name": "ipython",
    "version": 3
   },
   "file_extension": ".py",
   "mimetype": "text/x-python",
   "name": "python",
   "nbconvert_exporter": "python",
   "pygments_lexer": "ipython3",
   "version": "3.9.7"
  }
 },
 "nbformat": 4,
 "nbformat_minor": 5
}
